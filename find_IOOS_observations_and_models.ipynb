{
 "cells": [
  {
   "cell_type": "markdown",
   "metadata": {},
   "source": [
    "# The Boston Light Swim temperature analysis with Python\n",
    "\n",
    "In the past we demonstrated how to perform a CSW catalog search with [`OWSLib`](https://ioos.github.io/notebooks_demos//notebooks/2016-12-19-exploring_csw),\n",
    "and how to obtain near real-time data with [`pyoos`](https://ioos.github.io/notebooks_demos//notebooks/2016-10-12-fetching_data).\n",
    "In this notebook we will use both to find all observations and model data around the Boston Harbor to access the sea water temperature.\n",
    "\n",
    "\n",
    "This workflow is part of an example to advise swimmers of the annual [Boston lighthouse swim](http://bostonlightswim.org/) of the Boston Harbor water temperature conditions prior to the race. For more information regarding the workflow presented here see [Signell, Richard P.; Fernandes, Filipe; Wilcox, Kyle.   2016. \"Dynamic Reusable Workflows for Ocean Science.\" *J. Mar. Sci. Eng.* 4, no. 4: 68](http://dx.doi.org/10.3390/jmse4040068)."
   ]
  },
  {
   "cell_type": "code",
   "execution_count": 1,
   "metadata": {},
   "outputs": [],
   "source": [
    "import warnings\n",
    "\n",
    "# Suppresing warnings for a \"pretty output.\"\n",
    "warnings.simplefilter('ignore')"
   ]
  },
  {
   "cell_type": "markdown",
   "metadata": {},
   "source": [
    "This notebook is quite big and complex,\n",
    "so to help us keep things organized we'll define a cell with the most important options and switches.\n",
    "\n",
    "Below we can define the date,\n",
    "bounding box, phenomena `SOS` and `CF` names and units,\n",
    "and the catalogs we will search."
   ]
  },
  {
   "cell_type": "code",
   "execution_count": 2,
   "metadata": {},
   "outputs": [
    {
     "name": "stdout",
     "output_type": "stream",
     "text": [
      "Writing config.yaml\n"
     ]
    }
   ],
   "source": [
    "%%writefile config.yaml\n",
    "\n",
    "# Specify a YYYY-MM-DD hh:mm:ss date or integer day offset.\n",
    "# If both start and stop are offsets they will be computed relative to datetime.today() at midnight.\n",
    "# Use the dates commented below to reproduce the last Boston Light Swim event forecast.\n",
    "date:\n",
    "    start: -5 # 2016-8-16 00:00:00\n",
    "    stop: +4 # 2016-8-29 00:00:00\n",
    "\n",
    "run_name: 'latest'\n",
    "\n",
    "# Boston harbor.\n",
    "region:\n",
    "    bbox: [-71.3, 42.03, -70.57, 42.63]\n",
    "    # Try the bounding box below to see how the notebook will behave for a different region.\n",
    "    #bbox: [-74.5, 40, -72., 41.5]\n",
    "    crs: 'urn:ogc:def:crs:OGC:1.3:CRS84'\n",
    "\n",
    "sos_name: 'sea_water_temperature'\n",
    "\n",
    "cf_names:\n",
    "    - sea_water_temperature\n",
    "    - sea_surface_temperature\n",
    "    - sea_water_potential_temperature\n",
    "    - equivalent_potential_temperature\n",
    "    - sea_water_conservative_temperature\n",
    "    - pseudo_equivalent_potential_temperature\n",
    "\n",
    "units: 'celsius'\n",
    "\n",
    "catalogs:\n",
    "    - https://data.ioos.us/csw"
   ]
  },
  {
   "cell_type": "markdown",
   "metadata": {},
   "source": [
    "We'll print some of the search configuration options along the way to keep track of them."
   ]
  },
  {
   "cell_type": "code",
   "execution_count": 3,
   "metadata": {},
   "outputs": [
    {
     "name": "stdout",
     "output_type": "stream",
     "text": [
      "Saving data inside directory /home/filipe/IOOS/reproducible-notebooks/Boston_Light_Swim/latest\n",
      "*********************** Run information ************************\n",
      "Run date: 2019-08-13 12:44:49\n",
      "Start: 2019-08-08 00:00:00\n",
      "Stop: 2019-08-17 00:00:00\n",
      "Bounding box: -71.30, 42.03,-70.57, 42.63\n"
     ]
    }
   ],
   "source": [
    "import os\n",
    "import shutil\n",
    "from datetime import datetime\n",
    "from ioos_tools.ioos import parse_config\n",
    "\n",
    "config = parse_config('config.yaml')\n",
    "\n",
    "# Saves downloaded data into a temporary directory.\n",
    "save_dir = os.path.abspath(config['run_name'])\n",
    "if os.path.exists(save_dir):\n",
    "    shutil.rmtree(save_dir)\n",
    "os.makedirs(save_dir)\n",
    "\n",
    "fmt = '{:*^64}'.format\n",
    "print(fmt('Saving data inside directory {}'.format(save_dir)))\n",
    "print(fmt(' Run information '))\n",
    "print('Run date: {:%Y-%m-%d %H:%M:%S}'.format(datetime.utcnow()))\n",
    "print('Start: {:%Y-%m-%d %H:%M:%S}'.format(config['date']['start']))\n",
    "print('Stop: {:%Y-%m-%d %H:%M:%S}'.format(config['date']['stop']))\n",
    "print('Bounding box: {0:3.2f}, {1:3.2f},'\n",
    "      '{2:3.2f}, {3:3.2f}'.format(*config['region']['bbox']))"
   ]
  },
  {
   "cell_type": "markdown",
   "metadata": {},
   "source": [
    "We already created an `OWSLib.fes` filter [before](https://ioos.github.io/notebooks_demos//notebooks/2016-12-19-exploring_csw).\n",
    "The main difference here is that we do not want the atmosphere model data,\n",
    "so we are filtering out all the `GRIB-2` data format."
   ]
  },
  {
   "cell_type": "code",
   "execution_count": 4,
   "metadata": {},
   "outputs": [],
   "source": [
    "def make_filter(config):\n",
    "    from owslib import fes\n",
    "    from ioos_tools.ioos import fes_date_filter\n",
    "    kw = dict(wildCard='*', escapeChar='\\\\',\n",
    "              singleChar='?', propertyname='apiso:AnyText')\n",
    "\n",
    "    or_filt = fes.Or([fes.PropertyIsLike(literal=('*%s*' % val), **kw)\n",
    "                      for val in config['cf_names']])\n",
    "\n",
    "    not_filt = fes.Not([fes.PropertyIsLike(literal='GRIB-2', **kw)])\n",
    "\n",
    "    begin, end = fes_date_filter(config['date']['start'],\n",
    "                                 config['date']['stop'])\n",
    "    bbox_crs = fes.BBox(config['region']['bbox'],\n",
    "                        crs=config['region']['crs'])\n",
    "    filter_list = [fes.And([bbox_crs, begin, end, or_filt, not_filt])]\n",
    "    return filter_list\n",
    "\n",
    "\n",
    "filter_list = make_filter(config)"
   ]
  },
  {
   "cell_type": "markdown",
   "metadata": {},
   "source": [
    "In the cell below we ask the catalog for all the returns that match the filter and have an OPeNDAP endpoint."
   ]
  },
  {
   "cell_type": "code",
   "execution_count": 5,
   "metadata": {
    "code_folding": [],
    "scrolled": false
   },
   "outputs": [
    {
     "name": "stdout",
     "output_type": "stream",
     "text": [
      "********************* Catalog information **********************\n",
      "URL: https://data.ioos.us/csw\n",
      "Number of datasets available: 30\n",
      "NERACOOS Gulf of Maine Ocean Array: Realtime Buoy Observations: A01 Massachusetts Bay: A01 ACCELEROMETER Massachusetts Bay\n",
      "NERACOOS Gulf of Maine Ocean Array: Realtime Buoy Observations: A01 Massachusetts Bay: A01 CTD1m Massachusetts Bay\n",
      "NERACOOS Gulf of Maine Ocean Array: Realtime Buoy Observations: A01 Massachusetts Bay: A01 CTD20m Massachusetts Bay\n",
      "NERACOOS Gulf of Maine Ocean Array: Realtime Buoy Observations: A01 Massachusetts Bay: A01 MET Massachusetts Bay\n",
      "NERACOOS Gulf of Maine Ocean Array: Realtime Buoy Observations: A01 Massachusetts Bay: A01 OPTODE51m Massachusetts Bay\n",
      "NOAA Coral Reef Watch Operational Daily Near-Real-Time Global 5-km Satellite Coral Bleaching Monitoring Products\n",
      "ROMS doppio Real-Time Operational PSAS Forecast System Version 1 FMRC Averages\n",
      "ROMS doppio Real-Time Operational PSAS Forecast System Version 1 FMRC History\n",
      "UNH Appledore Island CO2\n",
      "urn:ioos:station:NOAA.NOS.CO-OPS:8443970 station, Boston, MA\n",
      "A01 Accelerometer - Waves\n",
      "A01 Directional Waves\n",
      "A01 Met - Meteorology\n",
      "A01 Optode - Oxygen\n",
      "A01 SBE16 Oxygen\n",
      "A01 Sbe37 - CTD\n",
      "BOSTON 16 NM East of Boston, MA\n",
      "Buoy A01 - Massachusetts Bay\n",
      "COAWST Modeling System: USEast: ROMS-WRF-SWAN coupled model (aka CNAPS)\n",
      "Department of Physical Oceanography, School of Marine Sciences, University of Maine A01 Accelerometer Buoy Sensor\n",
      "Department of Physical Oceanography, School of Marine Sciences, University of Maine A01 Met Buoy Sensor\n",
      "Department of Physical Oceanography, School of Marine Sciences, University of Maine A01 Optode 51m Buoy Sensor\n",
      "Department of Physical Oceanography, School of Marine Sciences, University of Maine A01 Sbe37 1m Buoy Sensor\n",
      "Department of Physical Oceanography, School of Marine Sciences, University of Maine A01 Sbe37 20m Buoy Sensor\n",
      "Directional wave and sea surface temperature measurements collected in situ by Datawell DWR-M3 directional buoy located near GRAYS HARBOR, WA from 2018/06/28 19:03:45 to 2019/08/12 18:00:25.\n",
      "Directional wave and sea surface temperature measurements collected in situ by Datawell DWR-M3 directional buoy located near KAUMALAPAU SOUTHWEST, LANAI, HI from 2018/10/02 16:03:45 to 2019/08/12 18:00:25.\n",
      "Global SST & Sea Ice Analysis, L4 OSTIA, 0.05 deg daily (METOFFICE-GLO-SST-L4-NRT-OBS-SST-V2)\n",
      "Latest CDIP real-time buoy observations, 3-day aggregate\n",
      "NDBC Standard Meteorological Buoy Data, 1970-present\n",
      "NECOFS (FVCOM) - Scituate - Latest Forecast\n",
      "***************************** DAP ******************************\n",
      "http://oos.soest.hawaii.edu/thredds/dodsC/hioos/satellite/dhw_5km.html\n",
      "http://tds.marine.rutgers.edu/thredds/dodsC/roms/doppio/2017_da/avg/Averages_Best.html\n",
      "http://tds.marine.rutgers.edu/thredds/dodsC/roms/doppio/2017_da/his/History_Best.html\n",
      "http://thredds.aoos.org/thredds/dodsC/AOOS_OSTIA.nc.html\n",
      "http://thredds.cdip.ucsd.edu/thredds/dodsC/cdip/realtime/036p1_rt.nc.html\n",
      "http://thredds.cdip.ucsd.edu/thredds/dodsC/cdip/realtime/239p1_rt.nc.html\n",
      "http://thredds.cdip.ucsd.edu/thredds/dodsC/cdip/realtime/latest_gudb_3day.nc.html\n",
      "http://www.neracoos.org/thredds/dodsC/UMO/DSG/SOS/A01/Accelerometer/HistoricRealtime.html\n",
      "http://www.neracoos.org/thredds/dodsC/UMO/DSG/SOS/A01/CTD1m/HistoricRealtime.html\n",
      "http://www.neracoos.org/thredds/dodsC/UMO/DSG/SOS/A01/CTD20m/HistoricRealtime.html\n",
      "http://www.neracoos.org/thredds/dodsC/UMO/DSG/SOS/A01/Met/HistoricRealtime.html\n",
      "http://www.neracoos.org/thredds/dodsC/UMO/DSG/SOS/A01/OPTODE51m/HistoricRealtime.html\n",
      "http://www.neracoos.org/thredds/dodsC/UMO/Realtime/SOS/A01/DSG_A0141.accelerometer.realtime.nc.html\n",
      "http://www.neracoos.org/thredds/dodsC/UMO/Realtime/SOS/A01/DSG_A0141.met.realtime.nc.html\n",
      "http://www.neracoos.org/thredds/dodsC/UMO/Realtime/SOS/A01/DSG_A0141.optode.realtime.51m.nc.html\n",
      "http://www.neracoos.org/thredds/dodsC/UMO/Realtime/SOS/A01/DSG_A0141.sbe37.realtime.1m.nc.html\n",
      "http://www.neracoos.org/thredds/dodsC/UMO/Realtime/SOS/A01/DSG_A0141.sbe37.realtime.20m.nc.html\n",
      "http://www.smast.umassd.edu:8080/thredds/dodsC/FVCOM/NECOFS/Forecasts/NECOFS_FVCOM_OCEAN_SCITUATE_FORECAST.nc.html\n",
      "\n",
      "\n"
     ]
    }
   ],
   "source": [
    "from ioos_tools.ioos import service_urls, get_csw_records\n",
    "from owslib.csw import CatalogueServiceWeb\n",
    "\n",
    "\n",
    "dap_urls = []\n",
    "print(fmt(' Catalog information '))\n",
    "for endpoint in config['catalogs']:\n",
    "    print('URL: {}'.format(endpoint))\n",
    "    try:\n",
    "        csw = CatalogueServiceWeb(endpoint, timeout=120)\n",
    "    except Exception as e:\n",
    "        print('{}'.format(e))\n",
    "        continue\n",
    "    csw = get_csw_records(csw, filter_list, esn='full')\n",
    "    OPeNDAP = service_urls(csw.records, identifier='OPeNDAP:OPeNDAP')\n",
    "    odp = service_urls(csw.records, identifier='urn:x-esri:specification:ServiceType:odp:url')\n",
    "    dap = OPeNDAP + odp\n",
    "    dap_urls.extend(dap)\n",
    "\n",
    "    print('Number of datasets available: {}'.format(len(csw.records.keys())))\n",
    "\n",
    "    for rec, item in csw.records.items():\n",
    "        print('{}'.format(item.title))\n",
    "    if dap:\n",
    "        print(fmt(' DAP '))\n",
    "        for url in dap:\n",
    "            print('{}.html'.format(url))\n",
    "    print('\\n')\n",
    "\n",
    "# Get only unique endpoints.\n",
    "dap_urls = list(set(dap_urls))"
   ]
  },
  {
   "cell_type": "markdown",
   "metadata": {},
   "source": [
    "We found some models, and observations from NERACOOS there.\n",
    "However, we do know that there are some buoys from NDBC and CO-OPS available too.\n",
    "Also, those NERACOOS observations seem to be from a [CTD](http://www.neracoos.org/thredds/dodsC/UMO/DSG/SOS/A01/CTD1m/HistoricRealtime/Agg.ncml.html) mounted at 65 meters below the sea surface. Rendering them useless from our purpose.\n",
    "\n",
    "So let's use the catalog only for the models by filtering the observations with `is_station` below.\n",
    "And we'll rely `CO-OPS` and `NDBC` services for the observations."
   ]
  },
  {
   "cell_type": "code",
   "execution_count": 6,
   "metadata": {},
   "outputs": [
    {
     "name": "stdout",
     "output_type": "stream",
     "text": [
      "Could not access URL http://thredds.aoos.org/thredds/dodsC/AOOS_OSTIA.nc#fillmismatch.html\n",
      "TimeoutError()\n",
      "************************* Filtered DAP *************************\n",
      "http://www.neracoos.org/thredds/dodsC/UMO/Realtime/SOS/A01/DSG_A0141.accelerometer.realtime.nc#fillmismatch.html\n",
      "http://tds.marine.rutgers.edu/thredds/dodsC/roms/doppio/2017_da/avg/Averages_Best#fillmismatch.html\n",
      "http://www.neracoos.org/thredds/dodsC/UMO/Realtime/SOS/A01/DSG_A0141.sbe37.realtime.1m.nc#fillmismatch.html\n",
      "http://www.neracoos.org/thredds/dodsC/UMO/Realtime/SOS/A01/DSG_A0141.met.realtime.nc#fillmismatch.html\n",
      "http://www.neracoos.org/thredds/dodsC/UMO/Realtime/SOS/A01/DSG_A0141.optode.realtime.51m.nc#fillmismatch.html\n",
      "http://tds.marine.rutgers.edu/thredds/dodsC/roms/doppio/2017_da/his/History_Best#fillmismatch.html\n",
      "http://oos.soest.hawaii.edu/thredds/dodsC/hioos/satellite/dhw_5km#fillmismatch.html\n",
      "http://www.smast.umassd.edu:8080/thredds/dodsC/FVCOM/NECOFS/Forecasts/NECOFS_FVCOM_OCEAN_SCITUATE_FORECAST.nc#fillmismatch.html\n",
      "http://www.neracoos.org/thredds/dodsC/UMO/Realtime/SOS/A01/DSG_A0141.sbe37.realtime.20m.nc#fillmismatch.html\n"
     ]
    }
   ],
   "source": [
    "from timeout_decorator import TimeoutError\n",
    "from ioos_tools.ioos import is_station\n",
    "\n",
    "# Filter out some station endpoints.\n",
    "non_stations = []\n",
    "for url in dap_urls:\n",
    "    url = f'{url}#fillmismatch'\n",
    "    try:\n",
    "        if not is_station(url):\n",
    "            non_stations.append(url)\n",
    "    except (IOError, OSError, RuntimeError, TimeoutError) as e:\n",
    "        print('Could not access URL {}.html\\n{!r}'.format(url, e))\n",
    "\n",
    "dap_urls = non_stations\n",
    "\n",
    "print(fmt(' Filtered DAP '))\n",
    "for url in dap_urls:\n",
    "    print('{}.html'.format(url))"
   ]
  },
  {
   "cell_type": "markdown",
   "metadata": {},
   "source": [
    "Now we can use `pyoos` collectors for `NdbcSos`,"
   ]
  },
  {
   "cell_type": "code",
   "execution_count": 7,
   "metadata": {},
   "outputs": [
    {
     "name": "stdout",
     "output_type": "stream",
     "text": [
      "******************* NDBC Collector offerings *******************\n",
      "National Data Buoy Center SOS: 1068 offerings\n"
     ]
    }
   ],
   "source": [
    "from pyoos.collectors.ndbc.ndbc_sos import NdbcSos\n",
    "\n",
    "collector_ndbc = NdbcSos()\n",
    "\n",
    "collector_ndbc.set_bbox(config['region']['bbox'])\n",
    "collector_ndbc.end_time = config['date']['stop']\n",
    "collector_ndbc.start_time = config['date']['start']\n",
    "collector_ndbc.variables = [config['sos_name']]\n",
    "\n",
    "ofrs = collector_ndbc.server.offerings\n",
    "title = collector_ndbc.server.identification.title\n",
    "print(fmt(' NDBC Collector offerings '))\n",
    "print('{}: {} offerings'.format(title, len(ofrs)))"
   ]
  },
  {
   "cell_type": "code",
   "execution_count": 8,
   "metadata": {},
   "outputs": [
    {
     "data": {
      "text/html": [
       "<div>\n",
       "<style scoped>\n",
       "    .dataframe tbody tr th:only-of-type {\n",
       "        vertical-align: middle;\n",
       "    }\n",
       "\n",
       "    .dataframe tbody tr th {\n",
       "        vertical-align: top;\n",
       "    }\n",
       "\n",
       "    .dataframe thead th {\n",
       "        text-align: right;\n",
       "    }\n",
       "</style>\n",
       "<table border=\"1\" class=\"dataframe\">\n",
       "  <thead>\n",
       "    <tr style=\"text-align: right;\">\n",
       "      <th></th>\n",
       "      <th>station_name</th>\n",
       "      <th>sensor</th>\n",
       "      <th>lon</th>\n",
       "      <th>lat</th>\n",
       "      <th>depth</th>\n",
       "    </tr>\n",
       "    <tr>\n",
       "      <th>station_code</th>\n",
       "      <th></th>\n",
       "      <th></th>\n",
       "      <th></th>\n",
       "      <th></th>\n",
       "      <th></th>\n",
       "    </tr>\n",
       "  </thead>\n",
       "  <tbody>\n",
       "    <tr>\n",
       "      <th>44013</th>\n",
       "      <td>BOSTON 16 NM East of Boston, MA</td>\n",
       "      <td>urn:ioos:sensor:wmo:44013::watertemp1</td>\n",
       "      <td>-70.651</td>\n",
       "      <td>42.346</td>\n",
       "      <td>0.6</td>\n",
       "    </tr>\n",
       "  </tbody>\n",
       "</table>\n",
       "</div>"
      ],
      "text/plain": [
       "                                 station_name  \\\n",
       "station_code                                    \n",
       "44013         BOSTON 16 NM East of Boston, MA   \n",
       "\n",
       "                                             sensor     lon     lat  depth  \n",
       "station_code                                                                \n",
       "44013         urn:ioos:sensor:wmo:44013::watertemp1 -70.651  42.346    0.6  "
      ]
     },
     "execution_count": 8,
     "metadata": {},
     "output_type": "execute_result"
    }
   ],
   "source": [
    "import pandas as pd\n",
    "from ioos_tools.ioos import collector2table\n",
    "\n",
    "ndbc = collector2table(collector=collector_ndbc,\n",
    "                       config=config,\n",
    "                       col='sea_water_temperature (C)')\n",
    "\n",
    "if ndbc:\n",
    "    data = dict(\n",
    "        station_name=[s._metadata.get('station_name') for s in ndbc],\n",
    "        station_code=[s._metadata.get('station_code') for s in ndbc],\n",
    "        sensor=[s._metadata.get('sensor') for s in ndbc],\n",
    "        lon=[s._metadata.get('lon') for s in ndbc],\n",
    "        lat=[s._metadata.get('lat') for s in ndbc],\n",
    "        depth=[s._metadata.get('depth') for s in ndbc],\n",
    "    )\n",
    "\n",
    "table = pd.DataFrame(data).set_index('station_code')\n",
    "table"
   ]
  },
  {
   "cell_type": "markdown",
   "metadata": {},
   "source": [
    "and `CoopsSos`."
   ]
  },
  {
   "cell_type": "code",
   "execution_count": 9,
   "metadata": {},
   "outputs": [
    {
     "name": "stdout",
     "output_type": "stream",
     "text": [
      "********************* Collector offerings **********************\n",
      "NOAA.NOS.CO-OPS SOS: 1227 offerings\n"
     ]
    }
   ],
   "source": [
    "from pyoos.collectors.coops.coops_sos import CoopsSos\n",
    "\n",
    "collector_coops = CoopsSos()\n",
    "\n",
    "collector_coops.set_bbox(config['region']['bbox'])\n",
    "collector_coops.end_time = config['date']['stop']\n",
    "collector_coops.start_time = config['date']['start']\n",
    "collector_coops.variables = [config['sos_name']]\n",
    "\n",
    "ofrs = collector_coops.server.offerings\n",
    "title = collector_coops.server.identification.title\n",
    "print(fmt(' Collector offerings '))\n",
    "print('{}: {} offerings'.format(title, len(ofrs)))"
   ]
  },
  {
   "cell_type": "code",
   "execution_count": 10,
   "metadata": {
    "scrolled": true
   },
   "outputs": [
    {
     "data": {
      "text/html": [
       "<div>\n",
       "<style scoped>\n",
       "    .dataframe tbody tr th:only-of-type {\n",
       "        vertical-align: middle;\n",
       "    }\n",
       "\n",
       "    .dataframe tbody tr th {\n",
       "        vertical-align: top;\n",
       "    }\n",
       "\n",
       "    .dataframe thead th {\n",
       "        text-align: right;\n",
       "    }\n",
       "</style>\n",
       "<table border=\"1\" class=\"dataframe\">\n",
       "  <thead>\n",
       "    <tr style=\"text-align: right;\">\n",
       "      <th></th>\n",
       "      <th>station_name</th>\n",
       "      <th>sensor</th>\n",
       "      <th>lon</th>\n",
       "      <th>lat</th>\n",
       "      <th>depth</th>\n",
       "    </tr>\n",
       "    <tr>\n",
       "      <th>station_code</th>\n",
       "      <th></th>\n",
       "      <th></th>\n",
       "      <th></th>\n",
       "      <th></th>\n",
       "      <th></th>\n",
       "    </tr>\n",
       "  </thead>\n",
       "  <tbody>\n",
       "    <tr>\n",
       "      <th>44013</th>\n",
       "      <td>BOSTON 16 NM East of Boston, MA</td>\n",
       "      <td>urn:ioos:sensor:wmo:44013::watertemp1</td>\n",
       "      <td>-70.651</td>\n",
       "      <td>42.346</td>\n",
       "      <td>0.6</td>\n",
       "    </tr>\n",
       "  </tbody>\n",
       "</table>\n",
       "</div>"
      ],
      "text/plain": [
       "                                 station_name  \\\n",
       "station_code                                    \n",
       "44013         BOSTON 16 NM East of Boston, MA   \n",
       "\n",
       "                                             sensor     lon     lat  depth  \n",
       "station_code                                                                \n",
       "44013         urn:ioos:sensor:wmo:44013::watertemp1 -70.651  42.346    0.6  "
      ]
     },
     "execution_count": 10,
     "metadata": {},
     "output_type": "execute_result"
    }
   ],
   "source": [
    "coops = collector2table(collector=collector_coops,\n",
    "                        config=config,\n",
    "                        col='sea_water_temperature (C)')\n",
    "\n",
    "if coops:\n",
    "    data = dict(\n",
    "        station_name=[s._metadata.get('station_name') for s in coops],\n",
    "        station_code=[s._metadata.get('station_code') for s in coops],\n",
    "        sensor=[s._metadata.get('sensor') for s in coops],\n",
    "        lon=[s._metadata.get('lon') for s in coops],\n",
    "        lat=[s._metadata.get('lat') for s in coops],\n",
    "        depth=[s._metadata.get('depth') for s in coops],\n",
    "    )\n",
    "\n",
    "table = pd.DataFrame(data).set_index('station_code')\n",
    "table"
   ]
  },
  {
   "cell_type": "markdown",
   "metadata": {},
   "source": [
    "We will join all the observations into an uniform series, interpolated to 1-hour interval, for the model-data comparison.\n",
    "\n",
    "This step is necessary because the observations can be 7 or 10 minutes resolution,\n",
    "while the models can be 30 to 60 minutes."
   ]
  },
  {
   "cell_type": "code",
   "execution_count": 11,
   "metadata": {
    "scrolled": true
   },
   "outputs": [],
   "source": [
    "data = ndbc + coops\n",
    "\n",
    "index = pd.date_range(start=config['date']['start'].replace(tzinfo=None),\n",
    "                      end=config['date']['stop'].replace(tzinfo=None),\n",
    "                      freq='1H')\n",
    "\n",
    "# Preserve metadata with `reindex`.\n",
    "observations = []\n",
    "for series in data:\n",
    "    _metadata = series._metadata\n",
    "    series.index = series.index.tz_localize(None)\n",
    "    series.index = series.index.tz_localize(None)\n",
    "    obs = series.reindex(index=index, limit=1, method='nearest')\n",
    "    obs._metadata = _metadata\n",
    "    observations.append(obs)"
   ]
  },
  {
   "cell_type": "markdown",
   "metadata": {},
   "source": [
    "In this next cell we will save the data for quicker access later."
   ]
  },
  {
   "cell_type": "code",
   "execution_count": 12,
   "metadata": {
    "scrolled": false
   },
   "outputs": [],
   "source": [
    "import iris\n",
    "from ioos_tools.tardis import series2cube\n",
    "\n",
    "attr = dict(\n",
    "    featureType='timeSeries',\n",
    "    Conventions='CF-1.6',\n",
    "    standard_name_vocabulary='CF-1.6',\n",
    "    cdm_data_type='Station',\n",
    "    comment='Data from http://opendap.co-ops.nos.noaa.gov'\n",
    ")\n",
    "\n",
    "\n",
    "cubes = iris.cube.CubeList(\n",
    "    [series2cube(obs, attr=attr) for obs in observations]\n",
    ")\n",
    "\n",
    "outfile = os.path.join(save_dir, 'OBS_DATA.nc')\n",
    "iris.save(cubes, outfile)"
   ]
  },
  {
   "cell_type": "markdown",
   "metadata": {},
   "source": [
    "Taking a quick look at the observations:"
   ]
  },
  {
   "cell_type": "code",
   "execution_count": 13,
   "metadata": {},
   "outputs": [
    {
     "data": {
      "image/png": "[encoded data removed]",
      "text/plain": [
       "<Figure size 792x162 with 1 Axes>"
      ]
     },
     "metadata": {
      "needs_background": "light"
     },
     "output_type": "display_data"
    }
   ],
   "source": [
    "%matplotlib inline\n",
    "\n",
    "ax = pd.concat(data).plot(figsize=(11, 2.25))"
   ]
  },
  {
   "cell_type": "markdown",
   "metadata": {},
   "source": [
    "Now it is time to loop the models we found above,"
   ]
  },
  {
   "cell_type": "code",
   "execution_count": 14,
   "metadata": {},
   "outputs": [
    {
     "name": "stdout",
     "output_type": "stream",
     "text": [
      "**************************** Models ****************************\n",
      "\n",
      "[Reading url 1/9]: http://www.neracoos.org/thredds/dodsC/UMO/Realtime/SOS/A01/DSG_A0141.accelerometer.realtime.nc#fillmismatch\n",
      "Cannot get cube for: http://www.neracoos.org/thredds/dodsC/UMO/Realtime/SOS/A01/DSG_A0141.accelerometer.realtime.nc#fillmismatch\n",
      "Cannot find ['sea_water_temperature', 'sea_surface_temperature', 'sea_water_potential_temperature', 'equivalent_potential_temperature', 'sea_water_conservative_temperature', 'pseudo_equivalent_potential_temperature'] in http://www.neracoos.org/thredds/dodsC/UMO/Realtime/SOS/A01/DSG_A0141.accelerometer.realtime.nc#fillmismatch.\n",
      "\n",
      "[Reading url 2/9]: http://tds.marine.rutgers.edu/thredds/dodsC/roms/doppio/2017_da/avg/Averages_Best#fillmismatch\n",
      "\n",
      "[Reading url 3/9]: http://www.neracoos.org/thredds/dodsC/UMO/Realtime/SOS/A01/DSG_A0141.sbe37.realtime.1m.nc#fillmismatch\n",
      "[Not model data]: http://www.neracoos.org/thredds/dodsC/UMO/Realtime/SOS/A01/DSG_A0141.sbe37.realtime.1m.nc#fillmismatch\n",
      "\n",
      "[Reading url 4/9]: http://www.neracoos.org/thredds/dodsC/UMO/Realtime/SOS/A01/DSG_A0141.met.realtime.nc#fillmismatch\n",
      "Cannot get cube for: http://www.neracoos.org/thredds/dodsC/UMO/Realtime/SOS/A01/DSG_A0141.met.realtime.nc#fillmismatch\n",
      "Cannot find ['sea_water_temperature', 'sea_surface_temperature', 'sea_water_potential_temperature', 'equivalent_potential_temperature', 'sea_water_conservative_temperature', 'pseudo_equivalent_potential_temperature'] in http://www.neracoos.org/thredds/dodsC/UMO/Realtime/SOS/A01/DSG_A0141.met.realtime.nc#fillmismatch.\n",
      "\n",
      "[Reading url 5/9]: http://www.neracoos.org/thredds/dodsC/UMO/Realtime/SOS/A01/DSG_A0141.optode.realtime.51m.nc#fillmismatch\n",
      "[Not model data]: http://www.neracoos.org/thredds/dodsC/UMO/Realtime/SOS/A01/DSG_A0141.optode.realtime.51m.nc#fillmismatch\n",
      "\n",
      "[Reading url 6/9]: http://tds.marine.rutgers.edu/thredds/dodsC/roms/doppio/2017_da/his/History_Best#fillmismatch\n",
      "\n",
      "[Reading url 7/9]: http://oos.soest.hawaii.edu/thredds/dodsC/hioos/satellite/dhw_5km#fillmismatch\n",
      "\n",
      "[Reading url 8/9]: http://www.smast.umassd.edu:8080/thredds/dodsC/FVCOM/NECOFS/Forecasts/NECOFS_FVCOM_OCEAN_SCITUATE_FORECAST.nc#fillmismatch\n",
      "\n",
      "[Reading url 9/9]: http://www.neracoos.org/thredds/dodsC/UMO/Realtime/SOS/A01/DSG_A0141.sbe37.realtime.20m.nc#fillmismatch\n",
      "[Not model data]: http://www.neracoos.org/thredds/dodsC/UMO/Realtime/SOS/A01/DSG_A0141.sbe37.realtime.20m.nc#fillmismatch\n"
     ]
    }
   ],
   "source": [
    "from iris.exceptions import (CoordinateNotFoundError, ConstraintMismatchError,\n",
    "                             MergeError)\n",
    "from ioos_tools.ioos import get_model_name\n",
    "from ioos_tools.tardis import quick_load_cubes, proc_cube, is_model, get_surface\n",
    "\n",
    "print(fmt(' Models '))\n",
    "cubes = dict()\n",
    "for k, url in enumerate(dap_urls):\n",
    "    print('\\n[Reading url {}/{}]: {}'.format(k+1, len(dap_urls), url))\n",
    "    try:\n",
    "        cube = quick_load_cubes(url, config['cf_names'],\n",
    "                                callback=None, strict=True)\n",
    "        if is_model(cube):\n",
    "            cube = proc_cube(cube,\n",
    "                             bbox=config['region']['bbox'],\n",
    "                             time=(config['date']['start'],\n",
    "                                   config['date']['stop']),\n",
    "                             units=config['units'])\n",
    "        else:\n",
    "            print('[Not model data]: {}'.format(url))\n",
    "            continue\n",
    "        cube = get_surface(cube)\n",
    "        mod_name = get_model_name(url)\n",
    "        cubes.update({mod_name: cube})\n",
    "    except (RuntimeError, ValueError,\n",
    "            ConstraintMismatchError, CoordinateNotFoundError,\n",
    "            IndexError) as e:\n",
    "        print('Cannot get cube for: {}\\n{}'.format(url, e))"
   ]
  },
  {
   "cell_type": "markdown",
   "metadata": {},
   "source": [
    "Next, we will match them with the nearest observed time-series. The `max_dist=0.08` is in degrees, that is roughly 8 kilometers."
   ]
  },
  {
   "cell_type": "code",
   "execution_count": 15,
   "metadata": {},
   "outputs": [
    {
     "name": "stdout",
     "output_type": "stream",
     "text": [
      " Downloading to file /home/filipe/IOOS/reproducible-notebooks/Boston_Light_Swim/latest/roms_doppio_2017_da_avg-Averages_Best#fillmismatch.nc \n",
      "[Water  ] BOSTON 16 NM East of Boston, MA\n",
      "Finished processing [roms_doppio_2017_da_avg-Averages_Best#fillmismatch]\n",
      " Downloading to file /home/filipe/IOOS/reproducible-notebooks/Boston_Light_Swim/latest/roms_doppio_2017_da-History_Best#fillmismatch.nc \n",
      "[Water  ] BOSTON 16 NM East of Boston, MA\n",
      "Finished processing [roms_doppio_2017_da-History_Best#fillmismatch]\n",
      " Downloading to file /home/filipe/IOOS/reproducible-notebooks/Boston_Light_Swim/latest/hioos_satellite-dhw_5km#fillmismatch.nc \n",
      "[Water  ] BOSTON 16 NM East of Boston, MA\n",
      "Finished processing [hioos_satellite-dhw_5km#fillmismatch]\n",
      " Downloading to file /home/filipe/IOOS/reproducible-notebooks/Boston_Light_Swim/latest/Forecasts-NECOFS_FVCOM_OCEAN_SCITUATE_FORECAST.nc#fillmismatch.nc \n",
      "[No Data] BOSTON 16 NM East of Boston, MA\n",
      "Finished processing [Forecasts-NECOFS_FVCOM_OCEAN_SCITUATE_FORECAST.nc#fillmismatch]\n"
     ]
    }
   ],
   "source": [
    "import iris\n",
    "from iris.pandas import as_series\n",
    "from ioos_tools.tardis import (make_tree, get_nearest_water,\n",
    "                               add_station, ensure_timeseries, remove_ssh)\n",
    "\n",
    "for mod_name, cube in cubes.items():\n",
    "    fname = '{}.nc'.format(mod_name)\n",
    "    fname = os.path.join(save_dir, fname)\n",
    "    print(fmt(' Downloading to file {} '.format(fname)))\n",
    "    try:\n",
    "        tree, lon, lat = make_tree(cube)\n",
    "    except CoordinateNotFoundError:\n",
    "        print('Cannot make KDTree for: {}'.format(mod_name))\n",
    "        continue\n",
    "    # Get model series at observed locations.\n",
    "    raw_series = dict()\n",
    "    for obs in observations:\n",
    "        obs = obs._metadata\n",
    "        station = obs['station_code']\n",
    "        try:\n",
    "            kw = dict(k=10, max_dist=0.08, min_var=0.01)\n",
    "            args = cube, tree, obs['lon'], obs['lat']\n",
    "            try:\n",
    "                series, dist, idx = get_nearest_water(*args, **kw)\n",
    "            except RuntimeError as e:\n",
    "                print('Cannot download {!r}.\\n{}'.format(cube, e))\n",
    "                series = None\n",
    "        except ValueError:\n",
    "            status = 'No Data'\n",
    "            print('[{}] {}'.format(status, obs['station_name']))\n",
    "            continue\n",
    "        if not series:\n",
    "            status = 'Land   '\n",
    "        else:\n",
    "            raw_series.update({station: series})\n",
    "            series = as_series(series)\n",
    "            status = 'Water  '\n",
    "        print('[{}] {}'.format(status, obs['station_name']))\n",
    "    if raw_series:  # Save cube.\n",
    "        for station, cube in raw_series.items():\n",
    "            cube = add_station(cube, station)\n",
    "            cube = remove_ssh(cube)\n",
    "        try:\n",
    "            cube = iris.cube.CubeList(raw_series.values()).merge_cube()\n",
    "        except MergeError as e:\n",
    "            print(e)\n",
    "        ensure_timeseries(cube)\n",
    "        try:\n",
    "            iris.save(cube, fname)\n",
    "        except AttributeError:\n",
    "            # FIXME: we should patch the bad attribute instead of removing everything.\n",
    "            cube.attributes = {}\n",
    "            iris.save(cube, fname)\n",
    "        del cube\n",
    "    print('Finished processing [{}]'.format(mod_name))"
   ]
  },
  {
   "cell_type": "markdown",
   "metadata": {},
   "source": [
    "Now it is possible to compute some simple comparison metrics. First we'll calculate the model mean bias:\n",
    "\n",
    "$$ \\text{MB} = \\mathbf{\\overline{m}} - \\mathbf{\\overline{o}}$$"
   ]
  },
  {
   "cell_type": "code",
   "execution_count": 16,
   "metadata": {},
   "outputs": [],
   "source": [
    "from ioos_tools.ioos import stations_keys\n",
    "\n",
    "\n",
    "def rename_cols(df, config):\n",
    "    cols = stations_keys(config, key='station_name')\n",
    "    return df.rename(columns=cols)"
   ]
  },
  {
   "cell_type": "code",
   "execution_count": 17,
   "metadata": {
    "scrolled": false
   },
   "outputs": [],
   "source": [
    "from ioos_tools.ioos import load_ncs\n",
    "from ioos_tools.skill_score import mean_bias, apply_skill\n",
    "\n",
    "dfs = load_ncs(config)\n",
    "\n",
    "df = apply_skill(dfs, mean_bias, remove_mean=False, filter_tides=False)\n",
    "skill_score = dict(mean_bias=df.to_dict())\n",
    "\n",
    "# Filter out stations with no valid comparison.\n",
    "df.dropna(how='all', axis=1, inplace=True)\n",
    "df = df.applymap('{:.2f}'.format).replace('nan', '--')"
   ]
  },
  {
   "cell_type": "markdown",
   "metadata": {},
   "source": [
    "And the root mean squared rrror of the deviations from the mean:\n",
    "$$ \\text{CRMS} = \\sqrt{\\left(\\mathbf{m'} - \\mathbf{o'}\\right)^2}$$\n",
    "\n",
    "where: $\\mathbf{m'} = \\mathbf{m} - \\mathbf{\\overline{m}}$ and $\\mathbf{o'} = \\mathbf{o} - \\mathbf{\\overline{o}}$"
   ]
  },
  {
   "cell_type": "code",
   "execution_count": 18,
   "metadata": {},
   "outputs": [],
   "source": [
    "from ioos_tools.skill_score import rmse\n",
    "\n",
    "dfs = load_ncs(config)\n",
    "\n",
    "df = apply_skill(dfs, rmse, remove_mean=True, filter_tides=False)\n",
    "skill_score['rmse'] = df.to_dict()\n",
    "\n",
    "# Filter out stations with no valid comparison.\n",
    "df.dropna(how='all', axis=1, inplace=True)\n",
    "df = df.applymap('{:.2f}'.format).replace('nan', '--')"
   ]
  },
  {
   "cell_type": "markdown",
   "metadata": {},
   "source": [
    "The next 2 cells make the scores \"pretty\" for plotting."
   ]
  },
  {
   "cell_type": "code",
   "execution_count": 19,
   "metadata": {},
   "outputs": [],
   "source": [
    "import pandas as pd\n",
    "\n",
    "# Stringfy keys.\n",
    "for key in skill_score.keys():\n",
    "    skill_score[key] = {str(k): v for k, v in skill_score[key].items()}\n",
    "\n",
    "mean_bias = pd.DataFrame.from_dict(skill_score['mean_bias'])\n",
    "mean_bias = mean_bias.applymap('{:.2f}'.format).replace('nan', '--')\n",
    "\n",
    "skill_score = pd.DataFrame.from_dict(skill_score['rmse'])\n",
    "skill_score = skill_score.applymap('{:.2f}'.format).replace('nan', '--')"
   ]
  },
  {
   "cell_type": "code",
   "execution_count": 20,
   "metadata": {},
   "outputs": [],
   "source": [
    "import folium\n",
    "from ioos_tools.ioos import get_coordinates\n",
    "\n",
    "\n",
    "def make_map(bbox, **kw):\n",
    "    line = kw.pop('line', True)\n",
    "    layers = kw.pop('layers', True)\n",
    "    zoom_start = kw.pop('zoom_start', 5)\n",
    "\n",
    "    lon = (bbox[0] + bbox[2]) / 2\n",
    "    lat = (bbox[1] + bbox[3]) / 2\n",
    "    m = folium.Map(width='100%', height='100%',\n",
    "                   location=[lat, lon], zoom_start=zoom_start)\n",
    "\n",
    "    if layers:\n",
    "        url = 'http://oos.soest.hawaii.edu/thredds/wms/hioos/satellite/dhw_5km'\n",
    "        w = folium.WmsTileLayer(\n",
    "            url,\n",
    "            name='Sea Surface Temperature',\n",
    "            fmt='image/png',\n",
    "            layers='CRW_SST',\n",
    "            attr='PacIOOS TDS',\n",
    "            overlay=True,\n",
    "            transparent=True)\n",
    "        w.add_to(m)\n",
    "\n",
    "    if line:\n",
    "        p = folium.PolyLine(\n",
    "            get_coordinates(bbox),\n",
    "            color='#FF0000',\n",
    "            weight=2,\n",
    "            opacity=0.9,\n",
    "        )\n",
    "        p.add_to(m)\n",
    "    return m"
   ]
  },
  {
   "cell_type": "code",
   "execution_count": 21,
   "metadata": {},
   "outputs": [],
   "source": [
    "bbox = config['region']['bbox']\n",
    "\n",
    "m = make_map(\n",
    "    bbox,\n",
    "    zoom_start=11,\n",
    "    line=True,\n",
    "    layers=True\n",
    ")"
   ]
  },
  {
   "cell_type": "markdown",
   "metadata": {},
   "source": [
    "The cells from `[20]` to `[25]` create a [`folium`](https://github.com/python-visualization/folium) map with [`bokeh`](http://bokeh.pydata.org/en/latest/) for the time-series at the observed points.\n",
    "\n",
    "Note that we did mark the nearest model cell location used in the comparison."
   ]
  },
  {
   "cell_type": "code",
   "execution_count": 22,
   "metadata": {},
   "outputs": [],
   "source": [
    "all_obs = stations_keys(config)\n",
    "\n",
    "from glob import glob\n",
    "from operator import itemgetter\n",
    "\n",
    "import iris\n",
    "from folium.plugins import MarkerCluster\n",
    "\n",
    "iris.FUTURE.netcdf_promote = True\n",
    "\n",
    "big_list = []\n",
    "for fname in glob(os.path.join(save_dir, '*.nc')):\n",
    "    if 'OBS_DATA' in fname:\n",
    "        continue\n",
    "    cube = iris.load_cube(fname)\n",
    "    model = os.path.split(fname)[1].split('-')[-1].split('.')[0]\n",
    "    lons = cube.coord(axis='X').points\n",
    "    lats = cube.coord(axis='Y').points\n",
    "    stations = cube.coord('station_code').points\n",
    "    models = [model]*lons.size\n",
    "    lista = zip(models, lons.tolist(), lats.tolist(), stations.tolist())\n",
    "    big_list.extend(lista)\n",
    "\n",
    "big_list.sort(key=itemgetter(3))\n",
    "df = pd.DataFrame(big_list, columns=['name', 'lon', 'lat', 'station'])\n",
    "df.set_index('station', drop=True, inplace=True)\n",
    "groups = df.groupby(df.index)\n",
    "\n",
    "\n",
    "locations, popups = [], []\n",
    "for station, info in groups:\n",
    "    sta_name = all_obs[station]\n",
    "    for lat, lon, name in zip(info.lat, info.lon, info.name):\n",
    "        locations.append([lat, lon])\n",
    "        popups.append('[{}]: {}'.format(name.rstrip('fillmismatch').rstrip('#'), sta_name))\n",
    "\n",
    "MarkerCluster(locations=locations, popups=popups, name='Cluster').add_to(m);"
   ]
  },
  {
   "cell_type": "markdown",
   "metadata": {},
   "source": [
    "Here we use a dictionary with some models we expect to find so we can create a better legend for the plots. If any new models are found, we will use its filename in the legend as a default until we can go back and add a short name to our library."
   ]
  },
  {
   "cell_type": "code",
   "execution_count": 23,
   "metadata": {},
   "outputs": [],
   "source": [
    "titles = {\n",
    "    'coawst_4_use_best': 'COAWST_4',\n",
    "    'global': 'HYCOM',\n",
    "    'NECOFS_GOM3_FORECAST': 'NECOFS_GOM3',\n",
    "    'NECOFS_FVCOM_OCEAN_MASSBAY_FORECAST': 'NECOFS_MassBay',\n",
    "    'OBS_DATA': 'Observations'\n",
    "}"
   ]
  },
  {
   "cell_type": "code",
   "execution_count": 24,
   "metadata": {},
   "outputs": [],
   "source": [
    "from bokeh.resources import CDN\n",
    "from bokeh.plotting import figure\n",
    "from bokeh.embed import file_html\n",
    "from bokeh.models import HoverTool\n",
    "from itertools import cycle\n",
    "from bokeh.palettes import Category20\n",
    "\n",
    "from folium import IFrame\n",
    "\n",
    "# Plot defaults.\n",
    "colors = Category20[20]\n",
    "colorcycler = cycle(colors)\n",
    "tools = 'pan,box_zoom,reset'\n",
    "width, height = 750, 250\n",
    "\n",
    "\n",
    "def make_plot(df, station):\n",
    "    p = figure(\n",
    "        toolbar_location='above',\n",
    "        x_axis_type='datetime',\n",
    "        width=width,\n",
    "        height=height,\n",
    "        tools=tools,\n",
    "        title=str(station)\n",
    "    )\n",
    "    for column, series in df.iteritems():\n",
    "        series.dropna(inplace=True)\n",
    "        if not series.empty:\n",
    "            if 'OBS_DATA' not in column:\n",
    "                bias = mean_bias[str(station)][column]\n",
    "                skill = skill_score[str(station)][column]\n",
    "                line_color = next(colorcycler)\n",
    "                kw = dict(alpha=0.65, line_color=line_color)\n",
    "            else:\n",
    "                skill = bias = 'NA'\n",
    "                kw = dict(alpha=1, color='crimson')\n",
    "            legend = f'{titles.get(column, column)}'\n",
    "            legend = legend.rstrip('fillmismatch').rstrip('#')\n",
    "            line = p.line(\n",
    "                x=series.index,\n",
    "                y=series.values,\n",
    "                legend=legend,\n",
    "                line_width=5,\n",
    "                line_cap='round',\n",
    "                line_join='round',\n",
    "                **kw\n",
    "            )\n",
    "            p.add_tools(HoverTool(tooltips=[('Name', '{}'.format(titles.get(column, column))),\n",
    "                                            ('Bias', bias),\n",
    "                                            ('Skill', skill)],\n",
    "                                  renderers=[line]))\n",
    "    return p\n",
    "\n",
    "\n",
    "def make_marker(p, station):\n",
    "    lons = stations_keys(config, key='lon')\n",
    "    lats = stations_keys(config, key='lat')\n",
    "\n",
    "    lon, lat = lons[station], lats[station]\n",
    "    html = file_html(p, CDN, station)\n",
    "    iframe = IFrame(html, width=width+40, height=height+80)\n",
    "\n",
    "    popup = folium.Popup(iframe, max_width=2650)\n",
    "    icon = folium.Icon(color='green', icon='stats')\n",
    "    marker = folium.Marker(location=[lat, lon],\n",
    "                           popup=popup,\n",
    "                           icon=icon)\n",
    "    return marker"
   ]
  },
  {
   "cell_type": "code",
   "execution_count": 25,
   "metadata": {},
   "outputs": [
    {
     "data": {
      "text/html": [
       "<div style=\"width:100%;\"><div style=\"position:relative;width:100%;height:0;padding-bottom:60%;\"><iframe src=\"data:text/html;charset=utf-8;base64,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\" style=\"position:absolute;width:100%;height:100%;left:0;top:0;border:none !important;\" allowfullscreen webkitallowfullscreen mozallowfullscreen></iframe></div></div>"
      ],
      "text/plain": [
       "<folium.folium.Map at 0x7f89d3996470>"
      ]
     },
     "execution_count": 25,
     "metadata": {},
     "output_type": "execute_result"
    }
   ],
   "source": [
    "dfs = load_ncs(config)\n",
    "\n",
    "for station in dfs:\n",
    "    sta_name = all_obs[station]\n",
    "    df = dfs[station]\n",
    "    if df.empty:\n",
    "        continue\n",
    "    p = make_plot(df, station)\n",
    "    marker = make_marker(p, station)\n",
    "    marker.add_to(m)\n",
    "\n",
    "folium.LayerControl().add_to(m)\n",
    "\n",
    "m"
   ]
  },
  {
   "cell_type": "markdown",
   "metadata": {},
   "source": [
    "Now we can navigate the map and click on the markers to explorer our findings.\n",
    "\n",
    "The green markers locate the observations locations. They pop-up an interactive plot with the time-series and scores for the models (hover over the lines to se the scores). The blue markers indicate the nearest model grid point found for the comparison."
   ]
  }
 ],
 "metadata": {
  "_draft": {
   "nbviewer_url": "https://gist.github.com/80d9e3244c1fb3f25136a42168ce2a6c"
  },
  "anaconda-cloud": {},
  "gist": {
   "data": {
    "description": "2016-12-22-boston_light_swim.ipynb",
    "public": true
   },
   "id": "80d9e3244c1fb3f25136a42168ce2a6c"
  },
  "kernelspec": {
   "display_name": "Python 3",
   "language": "python",
   "name": "python3"
  },
  "language_info": {
   "codemirror_mode": {
    "name": "ipython",
    "version": 3
   },
   "file_extension": ".py",
   "mimetype": "text/x-python",
   "name": "python",
   "nbconvert_exporter": "python",
   "pygments_lexer": "ipython3",
   "version": "3.7.3"
  }
 },
 "nbformat": 4,
 "nbformat_minor": 1
}
